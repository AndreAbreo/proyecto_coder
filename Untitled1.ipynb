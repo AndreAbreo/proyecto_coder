{
  "nbformat": 4,
  "nbformat_minor": 0,
  "metadata": {
    "colab": {
      "provenance": [],
      "include_colab_link": true
    },
    "kernelspec": {
      "name": "python3",
      "display_name": "Python 3"
    },
    "language_info": {
      "name": "python"
    }
  },
  "cells": [
    {
      "cell_type": "markdown",
      "metadata": {
        "id": "view-in-github",
        "colab_type": "text"
      },
      "source": [
        "<a href=\"https://colab.research.google.com/github/DrBuitre/proyecto_coder/blob/rama1/Untitled1.ipynb\" target=\"_parent\"><img src=\"https://colab.research.google.com/assets/colab-badge.svg\" alt=\"Open In Colab\"/></a>"
      ]
    },
    {
      "cell_type": "code",
      "execution_count": null,
      "metadata": {
        "colab": {
          "base_uri": "https://localhost:8080/"
        },
        "id": "b4pFJRgnR6xc",
        "outputId": "3866035a-c264-436a-c046-5c6fb8a4076a"
      },
      "outputs": [
        {
          "output_type": "stream",
          "name": "stdout",
          "text": [
            "PROGRAMA DE REGISTRO por ANDRÉ ABREO\n",
            "\n",
            "\n"
          ]
        }
      ],
      "source": [
        "#Autor: André Abreo\n",
        "import csv\n",
        "\n",
        "salto = \"\\n\"\n",
        "ruta = '/drive.google.com/drive/folders/1K1WhnuznCqlYRrCGW7x0FAULk8VxWNBp'\n",
        "\n",
        "def cargar_usuarios():\n",
        "    with open('/content/drive/MyDrive/Colab Notebooks/Proyecto_Python40425/mi_db.csv', 'r') as csvfile:\n",
        "        reader = csv.reader(csvfile)\n",
        "        for row in reader:\n",
        "            usuarios[row[0]] = row[1]\n",
        "\n",
        "def guardar_usuarios():\n",
        "    with open('/content/drive/MyDrive/Colab Notebooks/Proyecto_Python40425/mi_db.csv', 'w', newline='') as csvfile:\n",
        "        writer = csv.writer(csvfile)\n",
        "        for usuario, password in usuarios.items():\n",
        "            writer.writerow([usuario, password])\n",
        "\n",
        "usuarios = {}\n",
        "cargar_usuarios()\n",
        "\n",
        "print(\"PROGRAMA DE REGISTRO por ANDRÉ ABREO\")\n",
        "print(salto)\n",
        "while True:\n",
        "    usuario = input(f\"Registrar nombre de usuario: \")\n",
        "    if usuario in usuarios:\n",
        "        print(f\"Este nombre de usuario ya existe. Por favor ingrese un nombre de usuario diferente.\")\n",
        "    else:\n",
        "        password = input(\"Ingrese una contraseña: \")\n",
        "        usuarios[usuario] = password\n",
        "        print(f\"Usuario '{usuario}' agregado exitosamente.\")\n",
        "        break\n",
        "        print(salto)\n",
        "\n",
        "guardar_usuarios()\n",
        "\n",
        "print(salto)\n",
        "print(\"LOGIN DE USUARIO\")\n",
        "intentos = 0\n",
        "validacion = False\n",
        "while not validacion and intentos < 3:\n",
        "    usuario = input(f\"Ingrese un nombre de usuario: \")\n",
        "    password = input(\"Ingrese contraseña: \")\n",
        "    if usuario in usuarios and usuarios[usuario] == password:\n",
        "        validacion = True\n",
        "        print(f\"Ingreso exitoso.\")\n",
        "    else:\n",
        "        intentos += 1\n",
        "        if intentos < 3:\n",
        "            print(\"Nombre de usuario o contraseña incorrectos. Intente de nuevo.\")\n",
        "        else:\n",
        "            print(f\"Ha excedido el número máximo de intentos.\")\n",
        "\n",
        "print(salto)           \n",
        "\n",
        "print(\"Base de Datos\")\n",
        "f = open('/content/drive/MyDrive/Colab Notebooks/Proyecto_Python40425/mi_db.csv', 'r')\n",
        "content = f.read()\n",
        "print(content)\n",
        "f.close()\n",
        "\n",
        "print(salto)\n",
        "print(\"Gracias por registrarse. ¡Hasta luego!\")"
      ]
    },
    {
      "cell_type": "code",
      "source": [
        "from google.colab import drive\n",
        "drive.mount('/content/drive')"
      ],
      "metadata": {
        "colab": {
          "base_uri": "https://localhost:8080/"
        },
        "id": "rPcwM9TnSbPv",
        "outputId": "4201123d-46bb-4329-91a6-af13c6a07d8b"
      },
      "execution_count": 6,
      "outputs": [
        {
          "output_type": "stream",
          "name": "stdout",
          "text": [
            "Drive already mounted at /content/drive; to attempt to forcibly remount, call drive.mount(\"/content/drive\", force_remount=True).\n"
          ]
        }
      ]
    }
  ]
}